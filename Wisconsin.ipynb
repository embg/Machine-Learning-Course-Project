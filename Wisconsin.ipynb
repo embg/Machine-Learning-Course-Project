{
 "cells": [
  {
   "cell_type": "code",
   "execution_count": 123,
   "metadata": {},
   "outputs": [
    {
     "data": {
      "text/plain": [
       "<module 'utils' from '/home/elliot/ml-final-project/wisconsin/utils.py'>"
      ]
     },
     "execution_count": 123,
     "metadata": {},
     "output_type": "execute_result"
    }
   ],
   "source": [
    "import numpy as np\n",
    "import pandas as pd\n",
    "import matplotlib.pyplot as plt\n",
    "import models, utils"
   ]
  },
  {
   "cell_type": "code",
   "execution_count": 42,
   "metadata": {},
   "outputs": [
    {
     "data": {
      "text/html": [
       "<div>\n",
       "<style>\n",
       "    .dataframe thead tr:only-child th {\n",
       "        text-align: right;\n",
       "    }\n",
       "\n",
       "    .dataframe thead th {\n",
       "        text-align: left;\n",
       "    }\n",
       "\n",
       "    .dataframe tbody tr th {\n",
       "        vertical-align: top;\n",
       "    }\n",
       "</style>\n",
       "<table border=\"1\" class=\"dataframe\">\n",
       "  <thead>\n",
       "    <tr style=\"text-align: right;\">\n",
       "      <th></th>\n",
       "      <th>thickness</th>\n",
       "      <th>size_uniform</th>\n",
       "      <th>shape_uniform</th>\n",
       "      <th>adhesion</th>\n",
       "      <th>epithelial_size</th>\n",
       "      <th>bare_nuclei</th>\n",
       "      <th>chromatin</th>\n",
       "      <th>normal_nuclei</th>\n",
       "      <th>mitoses</th>\n",
       "      <th>class</th>\n",
       "    </tr>\n",
       "  </thead>\n",
       "  <tbody>\n",
       "    <tr>\n",
       "      <th>count</th>\n",
       "      <td>683.000000</td>\n",
       "      <td>683.000000</td>\n",
       "      <td>683.000000</td>\n",
       "      <td>683.000000</td>\n",
       "      <td>683.000000</td>\n",
       "      <td>683.000000</td>\n",
       "      <td>683.000000</td>\n",
       "      <td>683.000000</td>\n",
       "      <td>683.000000</td>\n",
       "      <td>683.000000</td>\n",
       "    </tr>\n",
       "    <tr>\n",
       "      <th>mean</th>\n",
       "      <td>4.442167</td>\n",
       "      <td>3.150805</td>\n",
       "      <td>3.215227</td>\n",
       "      <td>2.830161</td>\n",
       "      <td>3.234261</td>\n",
       "      <td>3.544656</td>\n",
       "      <td>3.445095</td>\n",
       "      <td>2.869693</td>\n",
       "      <td>1.603221</td>\n",
       "      <td>2.699854</td>\n",
       "    </tr>\n",
       "    <tr>\n",
       "      <th>std</th>\n",
       "      <td>2.820761</td>\n",
       "      <td>3.065145</td>\n",
       "      <td>2.988581</td>\n",
       "      <td>2.864562</td>\n",
       "      <td>2.223085</td>\n",
       "      <td>3.643857</td>\n",
       "      <td>2.449697</td>\n",
       "      <td>3.052666</td>\n",
       "      <td>1.732674</td>\n",
       "      <td>0.954592</td>\n",
       "    </tr>\n",
       "    <tr>\n",
       "      <th>min</th>\n",
       "      <td>1.000000</td>\n",
       "      <td>1.000000</td>\n",
       "      <td>1.000000</td>\n",
       "      <td>1.000000</td>\n",
       "      <td>1.000000</td>\n",
       "      <td>1.000000</td>\n",
       "      <td>1.000000</td>\n",
       "      <td>1.000000</td>\n",
       "      <td>1.000000</td>\n",
       "      <td>2.000000</td>\n",
       "    </tr>\n",
       "    <tr>\n",
       "      <th>25%</th>\n",
       "      <td>2.000000</td>\n",
       "      <td>1.000000</td>\n",
       "      <td>1.000000</td>\n",
       "      <td>1.000000</td>\n",
       "      <td>2.000000</td>\n",
       "      <td>1.000000</td>\n",
       "      <td>2.000000</td>\n",
       "      <td>1.000000</td>\n",
       "      <td>1.000000</td>\n",
       "      <td>2.000000</td>\n",
       "    </tr>\n",
       "    <tr>\n",
       "      <th>50%</th>\n",
       "      <td>4.000000</td>\n",
       "      <td>1.000000</td>\n",
       "      <td>1.000000</td>\n",
       "      <td>1.000000</td>\n",
       "      <td>2.000000</td>\n",
       "      <td>1.000000</td>\n",
       "      <td>3.000000</td>\n",
       "      <td>1.000000</td>\n",
       "      <td>1.000000</td>\n",
       "      <td>2.000000</td>\n",
       "    </tr>\n",
       "    <tr>\n",
       "      <th>75%</th>\n",
       "      <td>6.000000</td>\n",
       "      <td>5.000000</td>\n",
       "      <td>5.000000</td>\n",
       "      <td>4.000000</td>\n",
       "      <td>4.000000</td>\n",
       "      <td>6.000000</td>\n",
       "      <td>5.000000</td>\n",
       "      <td>4.000000</td>\n",
       "      <td>1.000000</td>\n",
       "      <td>4.000000</td>\n",
       "    </tr>\n",
       "    <tr>\n",
       "      <th>max</th>\n",
       "      <td>10.000000</td>\n",
       "      <td>10.000000</td>\n",
       "      <td>10.000000</td>\n",
       "      <td>10.000000</td>\n",
       "      <td>10.000000</td>\n",
       "      <td>10.000000</td>\n",
       "      <td>10.000000</td>\n",
       "      <td>10.000000</td>\n",
       "      <td>10.000000</td>\n",
       "      <td>4.000000</td>\n",
       "    </tr>\n",
       "  </tbody>\n",
       "</table>\n",
       "</div>"
      ],
      "text/plain": [
       "        thickness  size_uniform  shape_uniform    adhesion  epithelial_size  \\\n",
       "count  683.000000    683.000000     683.000000  683.000000       683.000000   \n",
       "mean     4.442167      3.150805       3.215227    2.830161         3.234261   \n",
       "std      2.820761      3.065145       2.988581    2.864562         2.223085   \n",
       "min      1.000000      1.000000       1.000000    1.000000         1.000000   \n",
       "25%      2.000000      1.000000       1.000000    1.000000         2.000000   \n",
       "50%      4.000000      1.000000       1.000000    1.000000         2.000000   \n",
       "75%      6.000000      5.000000       5.000000    4.000000         4.000000   \n",
       "max     10.000000     10.000000      10.000000   10.000000        10.000000   \n",
       "\n",
       "       bare_nuclei   chromatin  normal_nuclei     mitoses       class  \n",
       "count   683.000000  683.000000     683.000000  683.000000  683.000000  \n",
       "mean      3.544656    3.445095       2.869693    1.603221    2.699854  \n",
       "std       3.643857    2.449697       3.052666    1.732674    0.954592  \n",
       "min       1.000000    1.000000       1.000000    1.000000    2.000000  \n",
       "25%       1.000000    2.000000       1.000000    1.000000    2.000000  \n",
       "50%       1.000000    3.000000       1.000000    1.000000    2.000000  \n",
       "75%       6.000000    5.000000       4.000000    1.000000    4.000000  \n",
       "max      10.000000   10.000000      10.000000   10.000000    4.000000  "
      ]
     },
     "execution_count": 42,
     "metadata": {},
     "output_type": "execute_result"
    }
   ],
   "source": [
    "df = pd.read_csv('breast-cancer-wisconsin.csv').set_index('id')\n",
    "df.describe()"
   ]
  },
  {
   "cell_type": "code",
   "execution_count": 47,
   "metadata": {
    "collapsed": true
   },
   "outputs": [],
   "source": [
    "# 2 is benign, 4 is malignant. We substitute 2 -> 0 and 4 -> 1.\n",
    "y = df['class'].replace(to_replace=2, value=0).astype('bool')\n",
    "X = df.drop('class', axis=1)\n",
    "\n",
    "# Mean-center and normalize\n",
    "for col in X:\n",
    "    X[col] = (X[col] - X[col].mean()) / X[col].std()"
   ]
  },
  {
   "cell_type": "code",
   "execution_count": 48,
   "metadata": {
    "scrolled": true
   },
   "outputs": [
    {
     "data": {
      "text/html": [
       "<div>\n",
       "<style>\n",
       "    .dataframe thead tr:only-child th {\n",
       "        text-align: right;\n",
       "    }\n",
       "\n",
       "    .dataframe thead th {\n",
       "        text-align: left;\n",
       "    }\n",
       "\n",
       "    .dataframe tbody tr th {\n",
       "        vertical-align: top;\n",
       "    }\n",
       "</style>\n",
       "<table border=\"1\" class=\"dataframe\">\n",
       "  <thead>\n",
       "    <tr style=\"text-align: right;\">\n",
       "      <th></th>\n",
       "      <th>thickness</th>\n",
       "      <th>size_uniform</th>\n",
       "      <th>shape_uniform</th>\n",
       "      <th>adhesion</th>\n",
       "      <th>epithelial_size</th>\n",
       "      <th>bare_nuclei</th>\n",
       "      <th>chromatin</th>\n",
       "      <th>normal_nuclei</th>\n",
       "      <th>mitoses</th>\n",
       "    </tr>\n",
       "  </thead>\n",
       "  <tbody>\n",
       "    <tr>\n",
       "      <th>count</th>\n",
       "      <td>6.830000e+02</td>\n",
       "      <td>6.830000e+02</td>\n",
       "      <td>6.830000e+02</td>\n",
       "      <td>6.830000e+02</td>\n",
       "      <td>6.830000e+02</td>\n",
       "      <td>6.830000e+02</td>\n",
       "      <td>6.830000e+02</td>\n",
       "      <td>6.830000e+02</td>\n",
       "      <td>6.830000e+02</td>\n",
       "    </tr>\n",
       "    <tr>\n",
       "      <th>mean</th>\n",
       "      <td>1.248391e-16</td>\n",
       "      <td>4.161304e-17</td>\n",
       "      <td>-6.241957e-17</td>\n",
       "      <td>6.241957e-17</td>\n",
       "      <td>-2.080652e-17</td>\n",
       "      <td>-2.080652e-17</td>\n",
       "      <td>5.201631e-17</td>\n",
       "      <td>4.161304e-17</td>\n",
       "      <td>9.362935e-17</td>\n",
       "    </tr>\n",
       "    <tr>\n",
       "      <th>std</th>\n",
       "      <td>1.000000e+00</td>\n",
       "      <td>1.000000e+00</td>\n",
       "      <td>1.000000e+00</td>\n",
       "      <td>1.000000e+00</td>\n",
       "      <td>1.000000e+00</td>\n",
       "      <td>1.000000e+00</td>\n",
       "      <td>1.000000e+00</td>\n",
       "      <td>1.000000e+00</td>\n",
       "      <td>1.000000e+00</td>\n",
       "    </tr>\n",
       "    <tr>\n",
       "      <th>min</th>\n",
       "      <td>-1.220297e+00</td>\n",
       "      <td>-7.016978e-01</td>\n",
       "      <td>-7.412304e-01</td>\n",
       "      <td>-6.388973e-01</td>\n",
       "      <td>-1.005027e+00</td>\n",
       "      <td>-6.983413e-01</td>\n",
       "      <td>-9.981216e-01</td>\n",
       "      <td>-6.124785e-01</td>\n",
       "      <td>-3.481446e-01</td>\n",
       "    </tr>\n",
       "    <tr>\n",
       "      <th>25%</th>\n",
       "      <td>-8.657829e-01</td>\n",
       "      <td>-7.016978e-01</td>\n",
       "      <td>-7.412304e-01</td>\n",
       "      <td>-6.388973e-01</td>\n",
       "      <td>-5.552016e-01</td>\n",
       "      <td>-6.983413e-01</td>\n",
       "      <td>-5.899078e-01</td>\n",
       "      <td>-6.124785e-01</td>\n",
       "      <td>-3.481446e-01</td>\n",
       "    </tr>\n",
       "    <tr>\n",
       "      <th>50%</th>\n",
       "      <td>-1.567545e-01</td>\n",
       "      <td>-7.016978e-01</td>\n",
       "      <td>-7.412304e-01</td>\n",
       "      <td>-6.388973e-01</td>\n",
       "      <td>-5.552016e-01</td>\n",
       "      <td>-6.983413e-01</td>\n",
       "      <td>-1.816940e-01</td>\n",
       "      <td>-6.124785e-01</td>\n",
       "      <td>-3.481446e-01</td>\n",
       "    </tr>\n",
       "    <tr>\n",
       "      <th>75%</th>\n",
       "      <td>5.522740e-01</td>\n",
       "      <td>6.032977e-01</td>\n",
       "      <td>5.971975e-01</td>\n",
       "      <td>4.083832e-01</td>\n",
       "      <td>3.444489e-01</td>\n",
       "      <td>6.738310e-01</td>\n",
       "      <td>6.347336e-01</td>\n",
       "      <td>3.702689e-01</td>\n",
       "      <td>-3.481446e-01</td>\n",
       "    </tr>\n",
       "    <tr>\n",
       "      <th>max</th>\n",
       "      <td>1.970331e+00</td>\n",
       "      <td>2.234542e+00</td>\n",
       "      <td>2.270232e+00</td>\n",
       "      <td>2.502944e+00</td>\n",
       "      <td>3.043400e+00</td>\n",
       "      <td>1.771569e+00</td>\n",
       "      <td>2.675803e+00</td>\n",
       "      <td>2.335764e+00</td>\n",
       "      <td>4.846139e+00</td>\n",
       "    </tr>\n",
       "  </tbody>\n",
       "</table>\n",
       "</div>"
      ],
      "text/plain": [
       "          thickness  size_uniform  shape_uniform      adhesion  \\\n",
       "count  6.830000e+02  6.830000e+02   6.830000e+02  6.830000e+02   \n",
       "mean   1.248391e-16  4.161304e-17  -6.241957e-17  6.241957e-17   \n",
       "std    1.000000e+00  1.000000e+00   1.000000e+00  1.000000e+00   \n",
       "min   -1.220297e+00 -7.016978e-01  -7.412304e-01 -6.388973e-01   \n",
       "25%   -8.657829e-01 -7.016978e-01  -7.412304e-01 -6.388973e-01   \n",
       "50%   -1.567545e-01 -7.016978e-01  -7.412304e-01 -6.388973e-01   \n",
       "75%    5.522740e-01  6.032977e-01   5.971975e-01  4.083832e-01   \n",
       "max    1.970331e+00  2.234542e+00   2.270232e+00  2.502944e+00   \n",
       "\n",
       "       epithelial_size   bare_nuclei     chromatin  normal_nuclei  \\\n",
       "count     6.830000e+02  6.830000e+02  6.830000e+02   6.830000e+02   \n",
       "mean     -2.080652e-17 -2.080652e-17  5.201631e-17   4.161304e-17   \n",
       "std       1.000000e+00  1.000000e+00  1.000000e+00   1.000000e+00   \n",
       "min      -1.005027e+00 -6.983413e-01 -9.981216e-01  -6.124785e-01   \n",
       "25%      -5.552016e-01 -6.983413e-01 -5.899078e-01  -6.124785e-01   \n",
       "50%      -5.552016e-01 -6.983413e-01 -1.816940e-01  -6.124785e-01   \n",
       "75%       3.444489e-01  6.738310e-01  6.347336e-01   3.702689e-01   \n",
       "max       3.043400e+00  1.771569e+00  2.675803e+00   2.335764e+00   \n",
       "\n",
       "            mitoses  \n",
       "count  6.830000e+02  \n",
       "mean   9.362935e-17  \n",
       "std    1.000000e+00  \n",
       "min   -3.481446e-01  \n",
       "25%   -3.481446e-01  \n",
       "50%   -3.481446e-01  \n",
       "75%   -3.481446e-01  \n",
       "max    4.846139e+00  "
      ]
     },
     "execution_count": 48,
     "metadata": {},
     "output_type": "execute_result"
    }
   ],
   "source": [
    "X.describe()"
   ]
  },
  {
   "cell_type": "code",
   "execution_count": 183,
   "metadata": {
    "collapsed": true
   },
   "outputs": [],
   "source": [
    "# KNN\n",
    "from sklearn.neighbors import KNeighborsClassifier\n",
    "def knn(nbors, split):\n",
    "    X_train, X_val, y_train, y_val = split\n",
    "    neigh = KNeighborsClassifier(n_neighbors=nbors)\n",
    "    neigh.fit(X_train, y_val)\n",
    "    return neigh.predict_proba(X_test)"
   ]
  },
  {
   "cell_type": "code",
   "execution_count": 184,
   "metadata": {},
   "outputs": [
    {
     "data": {
      "image/png": "[encoded data removed]",
      "text/plain": [
       "<matplotlib.figure.Figure at 0x7fec7d97add8>"
      ]
     },
     "metadata": {},
     "output_type": "display_data"
    },
    {
     "name": "stdout",
     "output_type": "stream",
     "text": [
      "AUC for the random model: 0.5002148299319727\n"
     ]
    }
   ],
   "source": [
    "curves = utils.cross_validate(X, y, models.random)\n",
    "utils.plot_roc_curves(curves)\n",
    "print(f'AUC for the random model: {utils.auc(curves)}')"
   ]
  },
  {
   "cell_type": "code",
   "execution_count": 182,
   "metadata": {},
   "outputs": [
    {
     "data": {
      "image/png": "[encoded data removed]",
      "text/plain": [
       "<matplotlib.figure.Figure at 0x7fec7c9bfc50>"
      ]
     },
     "metadata": {},
     "output_type": "display_data"
    },
    {
     "name": "stdout",
     "output_type": "stream",
     "text": [
      "AUC for the logistic model: 0.975840459067981\n"
     ]
    }
   ],
   "source": [
    "lg_curves = utils.cross_validate(X, y, models.logistic)\n",
    "utils.plot_roc_curves(lg_curves)\n",
    "print(f'AUC for the logistic model: {utils.auc(curves)}')"
   ]
  },
  {
   "cell_type": "code",
   "execution_count": 181,
   "metadata": {},
   "outputs": [
    {
     "data": {
      "image/png": "[encoded data removed]",
      "text/plain": [
       "<matplotlib.figure.Figure at 0x7fec7cb026d8>"
      ]
     },
     "metadata": {},
     "output_type": "display_data"
    }
   ],
   "source": [
    "AUCs = [0] * 20\n",
    "for nbors in range(1,20):\n",
    "    curves = utils.cross_validate(X, y, models.knn, params=(nbors,))\n",
    "    AUCs[nbors] = utils.auc(curves)\n",
    "\n",
    "plt.plot(range(1,20), AUCs[1:20])\n",
    "plt.xticks(range(1,20))\n",
    "plt.xlabel('Value of k')\n",
    "plt.ylabel('Average AUC over 5-fold CV')\n",
    "plt.show()"
   ]
  },
  {
   "cell_type": "code",
   "execution_count": 180,
   "metadata": {},
   "outputs": [
    {
     "data": {
      "image/png": "[encoded data removed]",
      "text/plain": [
       "<matplotlib.figure.Figure at 0x7fec992bf4a8>"
      ]
     },
     "metadata": {},
     "output_type": "display_data"
    },
    {
     "name": "stdout",
     "output_type": "stream",
     "text": [
      "Best AUC for knn: 0.975840459067981\n"
     ]
    }
   ],
   "source": [
    "knn_curves = utils.cross_validate(X, y, models.knn, params=(8,))\n",
    "utils.plot_roc_curves(knn_curves)\n",
    "print(f'Best AUC for knn: {utils.auc(curves)}')"
   ]
  },
  {
   "cell_type": "code",
   "execution_count": 185,
   "metadata": {},
   "outputs": [
    {
     "data": {
      "image/png": "[encoded data removed]",
      "text/plain": [
       "<matplotlib.figure.Figure at 0x7fec7d8b9a58>"
      ]
     },
     "metadata": {},
     "output_type": "display_data"
    }
   ],
   "source": [
    "params = range(1,100,5)\n",
    "AUCs = [0] * len(params)\n",
    "for i,n_estimators in enumerate(params):\n",
    "    curves = utils.cross_validate(X, y, models.rf, params=(n_estimators,))\n",
    "    AUCs[i] = utils.auc(curves)\n",
    "\n",
    "plt.plot(params, AUCs)\n",
    "plt.xticks(params)\n",
    "plt.xlabel('Value of n_estimators')\n",
    "plt.ylabel('Average AUC over 5-fold CV')\n",
    "plt.show()"
   ]
  },
  {
   "cell_type": "code",
   "execution_count": 186,
   "metadata": {},
   "outputs": [
    {
     "data": {
      "image/png": "[encoded data removed]",
      "text/plain": [
       "<matplotlib.figure.Figure at 0x7fec7c8ed0f0>"
      ]
     },
     "metadata": {},
     "output_type": "display_data"
    },
    {
     "name": "stdout",
     "output_type": "stream",
     "text": [
      "Best AUC for random forest: 0.9766513989541394\n"
     ]
    }
   ],
   "source": [
    "rf_curves = utils.cross_validate(X, y, models.rf, params=(11,))\n",
    "utils.plot_roc_curves(rf_curves)\n",
    "print(f'Best AUC for random forest: {utils.auc(curves)}')"
   ]
  },
  {
   "cell_type": "code",
   "execution_count": 188,
   "metadata": {},
   "outputs": [
    {
     "data": {
      "image/png": "[encoded data removed]",
      "text/plain": [
       "<matplotlib.figure.Figure at 0x7fec7c807860>"
      ]
     },
     "metadata": {},
     "output_type": "display_data"
    }
   ],
   "source": [
    "for curves, color,label in zip(\n",
    "    [lg_curves, knn_curves, rf_curves], \n",
    "    ['r','g','b'], \n",
    "    ['Logistic', 'knn', 'Random Forest']):\n",
    "    utils.plot_roc_curves(curves, color=color, mean_only=True, show=False, label=label)\n",
    "    \n",
    "plt.xlim(0.015, 0.1)\n",
    "plt.ylim(0.87,1.01)\n",
    "plt.legend(loc='lower right')\n",
    "plt.title('Mean AUCs for the best 3 models, zoomed into the top-left corner')\n",
    "plt.show()"
   ]
  },
  {
   "cell_type": "code",
   "execution_count": 200,
   "metadata": {},
   "outputs": [
    {
     "name": "stdout",
     "output_type": "stream",
     "text": [
      "Confusion matrix for Logistic: \n",
      "[[84  3]\n",
      " [ 3 47]]\n",
      "Confusion matrix for knn: \n",
      "[[84  3]\n",
      " [ 3 47]]\n",
      "Confusion matrix for Random Forest: \n",
      "[[84  3]\n",
      " [ 2 48]]\n"
     ]
    }
   ],
   "source": [
    "for model, params, label in zip(\n",
    "    [models.logistic, models.knn, models.rf],\n",
    "    [None, (8,), (11,)],\n",
    "    ['Logistic', 'knn', 'Random Forest']\n",
    "):\n",
    "    print(f'Confusion matrix for {label}: \\n{utils.confusion_matrix(X, y, model, params=params)}')"
   ]
  }
 ],
 "metadata": {
  "kernelspec": {
   "display_name": "ml-final-project",
   "language": "python",
   "name": "ml-final-project"
  },
  "language_info": {
   "codemirror_mode": {
    "name": "ipython",
    "version": 3
   },
   "file_extension": ".py",
   "mimetype": "text/x-python",
   "name": "python",
   "nbconvert_exporter": "python",
   "pygments_lexer": "ipython3",
   "version": "3.6.0"
  }
 },
 "nbformat": 4,
 "nbformat_minor": 2
}
